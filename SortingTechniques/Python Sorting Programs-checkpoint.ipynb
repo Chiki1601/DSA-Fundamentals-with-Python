{
 "cells": [
  {
   "cell_type": "code",
   "execution_count": 24,
   "id": "b927f3a1",
   "metadata": {},
   "outputs": [
    {
     "name": "stdout",
     "output_type": "stream",
     "text": [
      "Array before Sorting:  [71, 15, 7, 18, 99]\n",
      "\n",
      "\n",
      "Array after Sorting:  [7, 15, 18, 71, 99]\n"
     ]
    }
   ],
   "source": [
    "#python Sorting programs\n",
    "#Bubble sort\n",
    "\n",
    "def bubble_sort(arr):\n",
    "    def swap(i,j):\n",
    "        arr[i], arr[j] =  arr[j], arr[i]\n",
    "        \n",
    "    n = len(arr)\n",
    "    swapped = True\n",
    "    \n",
    "    \n",
    "    x = -1\n",
    "    while swapped:\n",
    "        swapped = False\n",
    "        x = x+1\n",
    "        for i in range(1,n-x):\n",
    "            if arr[i-1]>arr[i]:\n",
    "                swap(i-1,i)\n",
    "                swapped = True\n",
    "    return arr\n",
    "\n",
    "myArr = [71,15,7,18,99]\n",
    "\n",
    "print(\"Array before Sorting: \",myArr)\n",
    "\n",
    "\n",
    "bubble_sort(myArr)\n",
    "print(\"\\n\\nArray after Sorting: \",myArr)"
   ]
  },
  {
   "cell_type": "code",
   "execution_count": 3,
   "id": "2f777f49",
   "metadata": {},
   "outputs": [
    {
     "name": "stdout",
     "output_type": "stream",
     "text": [
      "Array before sorting:  [23, 11, 85, 7, 47, 28, 55]\n",
      "\n",
      "\n",
      "Array after sorting:  [7, 11, 23, 28, 47, 55, 85]\n"
     ]
    }
   ],
   "source": [
    "#merge sort in Python\n",
    "\n",
    "def merge_sort(myList):\n",
    "    if len(myList) > 1:\n",
    "        mid = len(myList)//2\n",
    "        left = myList[:mid]\n",
    "        right = myList[mid:]\n",
    "        \n",
    "        merge_sort(left)\n",
    "        merge_sort(right)\n",
    "        \n",
    "        i = 0\n",
    "        j = 0\n",
    "        k  =0\n",
    "        \n",
    "        while i < len(left) and j< len(right):\n",
    "            if left[i] < right[j]:\n",
    "                myList[k] = left[i]\n",
    "                i += 1\n",
    "                \n",
    "            else:\n",
    "                myList[k] = right[j]\n",
    "                j += 1\n",
    "            k += 1\n",
    "            \n",
    "            \n",
    "        while i < len(left):\n",
    "            myList[k] = left[i]\n",
    "            i += 1\n",
    "            k +=1\n",
    "            \n",
    "            \n",
    "        while j < len(right):\n",
    "            myList[k] = right[j]\n",
    "            j += 1\n",
    "            k += 1\n",
    "            \n",
    "        \n",
    "         \n",
    "        \n",
    "        \n",
    "            \n",
    "myArray = [23,11,85,7,47,28,55]\n",
    "            \n",
    "print(\"Array before sorting: \",myArray)\n",
    "merge_sort(myArray)\n",
    "        \n",
    "print(\"\\n\\nArray after sorting: \",myArray)  "
   ]
  },
  {
   "cell_type": "code",
   "execution_count": 4,
   "id": "ea6520ca",
   "metadata": {},
   "outputs": [
    {
     "name": "stdout",
     "output_type": "stream",
     "text": [
      "Array before sorting:  [11, 33, 22, 44, 66]\n",
      "\n",
      "\n",
      "Array after sorting:  [11, 22, 33, 44, 66]\n"
     ]
    }
   ],
   "source": [
    "#shell sort\n",
    "def shell_sort(array,n):\n",
    "    gap = n//2\n",
    "    while gap>0:\n",
    "        for i in range(gap,n):\n",
    "            temp = array[i]\n",
    "            j = i\n",
    "            while j>= gap and array[j-gap]>temp:\n",
    "                array[j] = array[j - gap]\n",
    "                j-= gap\n",
    "            array[j] = temp\n",
    "        gap //=2\n",
    "        \n",
    "myArr = [11,33,22,44,66]\n",
    "size = len(myArr)\n",
    "\n",
    "print(\"Array before sorting: \",myArr)\n",
    "shell_sort(myArr,size)\n",
    "\n",
    "print(\"\\n\\nArray after sorting: \",myArr)"
   ]
  },
  {
   "cell_type": "code",
   "execution_count": 6,
   "id": "2ee4963d",
   "metadata": {},
   "outputs": [
    {
     "name": "stdout",
     "output_type": "stream",
     "text": [
      "Array before sorting: [93, 11, 8, 67, 33, 12]\n",
      "\n",
      "\n",
      " Array after sorting: [8, 11, 12, 33, 67, 93]\n"
     ]
    }
   ],
   "source": [
    "#Heap sort program in Python\n",
    "\n",
    "def heapify(arr,n,i):\n",
    "    maxi = i\n",
    "    left  = 2*i + 1\n",
    "    right = 2*i + 2\n",
    "    \n",
    "    if left <n and arr[i]< arr[left]:\n",
    "        maxi = left\n",
    "        \n",
    "    if right < n and arr[maxi] < arr[right]:\n",
    "        maxi = right\n",
    "        \n",
    "    if maxi!= i:\n",
    "        arr[i], arr[maxi] =  arr[maxi], arr[i]\n",
    "        heapify(arr,n,maxi)\n",
    "        \n",
    "def heapSort(arr):\n",
    "    n = len(arr)\n",
    "    \n",
    "    for i in range(n,-1,-1):\n",
    "        heapify(arr,n,i)\n",
    "        \n",
    "    for i in range(n-1,0,-1):\n",
    "        arr[i], arr[0] =  arr[0], arr[i]  #swap\n",
    "        \n",
    "        heapify(arr,i,0)\n",
    "        \n",
    "myArr = [93,11,8,67,33,12]\n",
    "\n",
    "\n",
    "print(\"Array before sorting:\",myArr)\n",
    "\n",
    "heapSort(myArr)\n",
    "        \n",
    "        \n",
    "print(\"\\n\\n Array after sorting:\",myArr) "
   ]
  },
  {
   "cell_type": "code",
   "execution_count": 7,
   "id": "ad161f4e",
   "metadata": {},
   "outputs": [
    {
     "name": "stdout",
     "output_type": "stream",
     "text": [
      "Array before Sorting: [74, 11, 7, 14, 35]\n",
      "\n",
      "\n",
      "Array after Sorting: [7, 11, 14, 35, 74]\n"
     ]
    }
   ],
   "source": [
    "#insertion sort in Python\n",
    "\n",
    "\n",
    "def Insertion_sort(arr):\n",
    "    for i in range(len(arr)):\n",
    "        temp = arr[i]\n",
    "        pos = i\n",
    "        \n",
    "        while pos > 0 and arr[pos-1]>temp:\n",
    "            arr[pos] = arr[pos-1]\n",
    "            pos = pos-1\n",
    "        arr[pos] = temp\n",
    "        \n",
    "    return arr\n",
    "\n",
    "\n",
    "my_arr = [74,11,7,14,35]\n",
    "\n",
    "print(\"Array before Sorting:\",my_arr)\n",
    "\n",
    "Insertion_sort(my_arr)\n",
    "\n",
    "print(\"\\n\\nArray after Sorting:\",my_arr)"
   ]
  },
  {
   "cell_type": "code",
   "execution_count": 8,
   "id": "97f0c4d7",
   "metadata": {},
   "outputs": [
    {
     "name": "stdout",
     "output_type": "stream",
     "text": [
      "Array before sorting: [11, 1, 77, 84, 9]\n",
      "\n",
      "\n",
      " Array after sorting: [9, 11, 77, 84, 1]\n"
     ]
    }
   ],
   "source": [
    "#selection sort in Python\n",
    "\n",
    "def Selection_sort(arr):\n",
    "    for  i in range(len(arr)):\n",
    "        min = i\n",
    "        \n",
    "        for j in range(i+1,len(arr)):\n",
    "            if arr[j] < arr[min]:\n",
    "                min = j\n",
    "            arr[min],arr[i] = arr[i],arr[min]\n",
    "            \n",
    "        return arr\n",
    "    \n",
    "myArr = [11,1,77,84,9]\n",
    "\n",
    "print(\"Array before sorting:\",myArr)\n",
    "Selection_sort(myArr)           \n",
    "        \n",
    "        \n",
    "print(\"\\n\\n Array after sorting:\",myArr)"
   ]
  },
  {
   "cell_type": "code",
   "execution_count": 20,
   "id": "2269368a",
   "metadata": {},
   "outputs": [
    {
     "name": "stdout",
     "output_type": "stream",
     "text": [
      "[11, 21, 21, 32, 45, 58, 98, 166]\n"
     ]
    }
   ],
   "source": [
    "# Radix sort in Python\n",
    "\n",
    "\n",
    "def countingSort(array, place):\n",
    "    size = len(array)\n",
    "    output = [0] * size\n",
    "    count = [0] * 10\n",
    "\n",
    "    for i in range(0, size):\n",
    "        index = array[i] // place\n",
    "        count[index % 10] += 1\n",
    "\n",
    "    for i in range(1, 10):\n",
    "        count[i] += count[i - 1]\n",
    "\n",
    "  \n",
    "    i = size - 1\n",
    "    while i >= 0:\n",
    "        index = array[i] // place\n",
    "        output[count[index % 10] - 1] = array[i]\n",
    "        count[index % 10] -= 1\n",
    "        i -= 1\n",
    "\n",
    "    for i in range(0, size):\n",
    "        array[i] = output[i]\n",
    "\n",
    "\n",
    "def RadixSort(array):\n",
    "    \n",
    "    max_element = max(array)\n",
    "\n",
    "  \n",
    "    place = 1\n",
    "    while max_element // place > 0:\n",
    "        countingSort(array, place)\n",
    "        place *= 10\n",
    "\n",
    "\n",
    "data = [21, 32, 11, 58, 98, 166,45, 21]\n",
    "RadixSort(data)\n",
    "print(data)\n"
   ]
  },
  {
   "cell_type": "code",
   "execution_count": 23,
   "id": "5cc08cee",
   "metadata": {},
   "outputs": [
    {
     "name": "stdout",
     "output_type": "stream",
     "text": [
      "[12, 19, 21, 27, 28, 29, 31, 41, 44, 44, 58, 66, 76, 78, 83, 87, 88, 97, 99]\n"
     ]
    }
   ],
   "source": [
    "#quick sort\n",
    "def partition(array, start, end):\n",
    "    pivot = array[start]\n",
    "    low = start + 1\n",
    "    high = end\n",
    "\n",
    "    while True:\n",
    "        while low <= high and array[high] >= pivot:\n",
    "            high = high - 1\n",
    "\n",
    "        while low <= high and array[low] <= pivot:\n",
    "            low = low + 1\n",
    "\n",
    "       \n",
    "        if low <= high:\n",
    "            array[low], array[high] = array[high], array[low]\n",
    "            # The loop continues\n",
    "        else:\n",
    "            # We exit out of the loop\n",
    "            break\n",
    "\n",
    "    array[start], array[high] = array[high], array[start]\n",
    "\n",
    "    return high\n",
    "\n",
    "\n",
    "def quick_sort(array, start, end):\n",
    "    if start >= end:\n",
    "        return\n",
    "\n",
    "    p = partition(array, start, end)\n",
    "    quick_sort(array, start, p-1)\n",
    "    quick_sort(array, p+1, end)\n",
    "    \n",
    "    \n",
    "array = [29,99,27,41,66,28,44,78,87,19,31,76,58,88,83,97,12,21,44]\n",
    "\n",
    "quick_sort(array, 0, len(array) - 1)\n",
    "print(array)"
   ]
  },
  {
   "cell_type": "code",
   "execution_count": null,
   "id": "181333d0",
   "metadata": {},
   "outputs": [],
   "source": []
  }
 ],
 "metadata": {
  "kernelspec": {
   "display_name": "Python 3",
   "language": "python",
   "name": "python3"
  },
  "language_info": {
   "codemirror_mode": {
    "name": "ipython",
    "version": 3
   },
   "file_extension": ".py",
   "mimetype": "text/x-python",
   "name": "python",
   "nbconvert_exporter": "python",
   "pygments_lexer": "ipython3",
   "version": "3.8.8"
  }
 },
 "nbformat": 4,
 "nbformat_minor": 5
}
